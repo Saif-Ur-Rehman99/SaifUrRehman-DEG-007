{
 "cells": [
  {
   "cell_type": "markdown",
   "id": "5958cf79-7798-480f-9466-31b68abd996d",
   "metadata": {},
   "source": [
    "## Importing Libraries"
   ]
  },
  {
   "cell_type": "code",
   "execution_count": 1,
   "id": "814b71bb-204c-427f-9f23-0affae3e0b4e",
   "metadata": {},
   "outputs": [],
   "source": [
    "import pyspark\n",
    "from pyspark.sql import SparkSession"
   ]
  },
  {
   "cell_type": "code",
   "execution_count": 2,
   "id": "b72de487-fc9d-40ca-a22d-0dfa00281410",
   "metadata": {},
   "outputs": [],
   "source": [
    "from pyspark.sql.functions import (max, min, avg, round, col, when, udf)\n",
    "from pyspark.sql.types import (IntegerType, StringType, FloatType, StructType, TimestampType)"
   ]
  },
  {
   "cell_type": "markdown",
   "id": "f5696052-6abe-43e3-b489-b7a9c99a9a39",
   "metadata": {},
   "source": [
    "### Create Spark Session"
   ]
  },
  {
   "cell_type": "code",
   "execution_count": 3,
   "id": "ec8c7832-6b43-4b42-aaa2-f1fcead717bc",
   "metadata": {},
   "outputs": [],
   "source": [
    "spark = (\n",
    "    SparkSession.builder.master(\"local[1]\")\n",
    "    .appName(\"PySpark Assignment\")\n",
    "    .getOrCreate()\n",
    ")"
   ]
  },
  {
   "cell_type": "code",
   "execution_count": 4,
   "id": "df92a984-d7f3-485c-822d-767e85499883",
   "metadata": {},
   "outputs": [],
   "source": [
    "# Schema Structure\n",
    "structure = (\n",
    "    StructType()\n",
    "    .add(\"P_Id\", IntegerType())\n",
    "    .add(\"Survived\", StringType())\n",
    "    .add(\"P_class\", StringType())\n",
    "    .add(\"Name\", StringType())\n",
    "    .add(\"Gender\", StringType())\n",
    "    .add(\"Age\", IntegerType())\n",
    "    .add(\"Sib_Spouse\", IntegerType())\n",
    "    .add(\"Par_child\", IntegerType())\n",
    "    .add(\"Ticket\", StringType())\n",
    "    .add(\"Fare\", FloatType())\n",
    "    .add(\"Cabin\", StringType())\n",
    "    .add(\"Embarked\", StringType())\n",
    "    .add(\"Timestamp\", TimestampType())\n",
    ")"
   ]
  },
  {
   "cell_type": "code",
   "execution_count": 5,
   "id": "d1e39273-0d96-4122-a635-159c447024ab",
   "metadata": {},
   "outputs": [
    {
     "name": "stdout",
     "output_type": "stream",
     "text": [
      "+----+--------+-------+--------------------+------+---+----------+---------+---------+-------+-----+--------+-------------------+\n",
      "|P_Id|Survived|P_class|                Name|Gender|Age|Sib_Spouse|Par_child|   Ticket|   Fare|Cabin|Embarked|          Timestamp|\n",
      "+----+--------+-------+--------------------+------+---+----------+---------+---------+-------+-----+--------+-------------------+\n",
      "|   1|       0|      3|Braund, Mr. Owen ...|  male| 22|         1|        0|A/5 21171|   7.25| null|       S|2020-01-01 13:45:25|\n",
      "|   2|       1|      1|Cumings, Mrs. Joh...|female| 38|         1|        0| PC 17599|71.2833|  C85|       C|2020-01-01 13:44:48|\n",
      "+----+--------+-------+--------------------+------+---+----------+---------+---------+-------+-----+--------+-------------------+\n",
      "only showing top 2 rows\n",
      "\n"
     ]
    }
   ],
   "source": [
    "df = spark.read.csv(\"workspace/data/titanic.csv\", schema=structure)\n",
    "df.show(2)"
   ]
  },
  {
   "cell_type": "code",
   "execution_count": 6,
   "id": "eecfef33-38d7-4ee5-a30a-dab723fc08b9",
   "metadata": {},
   "outputs": [],
   "source": [
    "df = df.withColumn(\"Survived\", when(col(\"Survived\") == 1, \"Yes\").otherwise(\"No\"))\\\n",
    "       .withColumn(\"P_class\", when(col(\"P_class\") == 1, \"1st\").when(col(\"P_class\") == 2, '2nd').otherwise('3rd'))\\\n",
    "       .withColumn(\"Embarked\", when(col(\"Embarked\") == 'S', 'Southampton').when(col(\"Embarked\") == 'C', 'Cherbourg').otherwise('Queenstown'))"
   ]
  },
  {
   "cell_type": "code",
   "execution_count": 7,
   "id": "eb75e667-7190-4612-9af3-0c7be9c9f316",
   "metadata": {},
   "outputs": [
    {
     "name": "stdout",
     "output_type": "stream",
     "text": [
      "+----+--------+-------+--------------------+------+---+----------+---------+----------------+-------+-----+-----------+-------------------+\n",
      "|P_Id|Survived|P_class|                Name|Gender|Age|Sib_Spouse|Par_child|          Ticket|   Fare|Cabin|   Embarked|          Timestamp|\n",
      "+----+--------+-------+--------------------+------+---+----------+---------+----------------+-------+-----+-----------+-------------------+\n",
      "|   1|      No|    3rd|Braund, Mr. Owen ...|  male| 22|         1|        0|       A/5 21171|   7.25| null|Southampton|2020-01-01 13:45:25|\n",
      "|   2|     Yes|    1st|Cumings, Mrs. Joh...|female| 38|         1|        0|        PC 17599|71.2833|  C85|  Cherbourg|2020-01-01 13:44:48|\n",
      "|   3|     Yes|    3rd|Heikkinen, Miss. ...|female| 26|         0|        0|STON/O2. 3101282|  7.925| null|Southampton|2020-01-01 13:38:11|\n",
      "|   4|     Yes|    1st|Futrelle, Mrs. Ja...|female| 35|         1|        0|          113803|   53.1| C123|Southampton|2020-01-01 13:32:00|\n",
      "|   5|      No|    3rd|Allen, Mr. Willia...|  male| 35|         0|        0|          373450|   8.05| null|Southampton|2020-01-01 13:36:30|\n",
      "+----+--------+-------+--------------------+------+---+----------+---------+----------------+-------+-----+-----------+-------------------+\n",
      "only showing top 5 rows\n",
      "\n"
     ]
    }
   ],
   "source": [
    "df.show(5)"
   ]
  },
  {
   "cell_type": "code",
   "execution_count": 8,
   "id": "f3359c17-4425-498a-b9c2-1794269ac53d",
   "metadata": {},
   "outputs": [
    {
     "name": "stdout",
     "output_type": "stream",
     "text": [
      "root\n",
      " |-- P_Id: integer (nullable = true)\n",
      " |-- Survived: string (nullable = false)\n",
      " |-- P_class: string (nullable = false)\n",
      " |-- Name: string (nullable = true)\n",
      " |-- Gender: string (nullable = true)\n",
      " |-- Age: integer (nullable = true)\n",
      " |-- Sib_Spouse: integer (nullable = true)\n",
      " |-- Par_child: integer (nullable = true)\n",
      " |-- Ticket: string (nullable = true)\n",
      " |-- Fare: float (nullable = true)\n",
      " |-- Cabin: string (nullable = true)\n",
      " |-- Embarked: string (nullable = false)\n",
      " |-- Timestamp: timestamp (nullable = true)\n",
      "\n"
     ]
    }
   ],
   "source": [
    "df.printSchema()"
   ]
  },
  {
   "cell_type": "markdown",
   "id": "8e829d58-e5c4-470d-bf79-52c877ecd68d",
   "metadata": {},
   "source": [
    "## For numerical columns, calculate minimum, maximum and average values."
   ]
  },
  {
   "cell_type": "code",
   "execution_count": 9,
   "id": "22713f56-3a59-46ca-a7a1-c4d8d429e259",
   "metadata": {},
   "outputs": [],
   "source": [
    "numerical_columns = [column[0] for column in df.dtypes if column[1] in ['int','float']]\n",
    "\n",
    "numerical_df = df.select(*numerical_columns)\n",
    "summary_df = numerical_df.select(numerical_columns[1:]).summary('min','max','mean')"
   ]
  },
  {
   "cell_type": "code",
   "execution_count": 10,
   "id": "09e4f8f6-d3f9-4e6f-ba6d-59c6a26111bb",
   "metadata": {},
   "outputs": [
    {
     "name": "stdout",
     "output_type": "stream",
     "text": [
      "+-------+------------------+------------------+-------------------+-----------------+\n",
      "|summary|               Age|        Sib_Spouse|          Par_child|             Fare|\n",
      "+-------+------------------+------------------+-------------------+-----------------+\n",
      "|    min|                 0|                 0|                  0|              0.0|\n",
      "|    max|                80|                 8|                  6|         512.3292|\n",
      "|   mean|29.679271708683473|0.5230078563411896|0.38159371492704824|32.20420804114722|\n",
      "+-------+------------------+------------------+-------------------+-----------------+\n",
      "\n"
     ]
    }
   ],
   "source": [
    "summary_df.show()"
   ]
  },
  {
   "cell_type": "markdown",
   "id": "36cf9c0d-2f32-4158-96b6-ab7d84e4973f",
   "metadata": {},
   "source": [
    "## For categorical columns, create and apply UDF that will change the last letter of every word to “1”."
   ]
  },
  {
   "cell_type": "code",
   "execution_count": 11,
   "id": "fc44b012-adcc-47e6-b46f-c0ffa8d458ae",
   "metadata": {},
   "outputs": [],
   "source": [
    "def replace_last_letter(x):\n",
    "    if x is None:\n",
    "        return '1'\n",
    "    new_word = x[:-1] + '1'\n",
    "    return new_word\n",
    "\n",
    "udf_fun = udf(replace_last_letter, StringType())\n",
    "\n",
    "new_df = df.select('Survived', 'P_class', 'Gender', 'Embarked')\\\n",
    "           .withColumn('Survived', udf_fun('Survived'))\\\n",
    "           .withColumn('P_class', udf_fun('P_class'))\\\n",
    "           .withColumn('Gender', udf_fun('Gender'))\\\n",
    "           .withColumn('Embarked', udf_fun('Embarked'))"
   ]
  },
  {
   "cell_type": "code",
   "execution_count": 12,
   "id": "1bfa2052-19c9-4c2c-a348-30b92935419a",
   "metadata": {},
   "outputs": [
    {
     "name": "stdout",
     "output_type": "stream",
     "text": [
      "+--------+-------+------+-----------+\n",
      "|Survived|P_class|Gender|   Embarked|\n",
      "+--------+-------+------+-----------+\n",
      "|      N1|    3r1|  mal1|Southampto1|\n",
      "|     Ye1|    1s1|femal1|  Cherbour1|\n",
      "|     Ye1|    3r1|femal1|Southampto1|\n",
      "|     Ye1|    1s1|femal1|Southampto1|\n",
      "|      N1|    3r1|  mal1|Southampto1|\n",
      "|      N1|    3r1|  mal1| Queenstow1|\n",
      "|      N1|    1s1|  mal1|Southampto1|\n",
      "|      N1|    3r1|  mal1|Southampto1|\n",
      "|     Ye1|    3r1|femal1|Southampto1|\n",
      "|     Ye1|    2n1|femal1|  Cherbour1|\n",
      "+--------+-------+------+-----------+\n",
      "only showing top 10 rows\n",
      "\n"
     ]
    }
   ],
   "source": [
    "new_df.show(10)"
   ]
  },
  {
   "cell_type": "markdown",
   "id": "deac8e65-59b3-42ec-b109-12569caa87ec",
   "metadata": {},
   "source": [
    "## Sort DataFrame by the first column and save the results to the Parquet file."
   ]
  },
  {
   "cell_type": "code",
   "execution_count": 13,
   "id": "cee0b040-facd-41c1-9f97-5b6d63d87984",
   "metadata": {},
   "outputs": [
    {
     "name": "stdout",
     "output_type": "stream",
     "text": [
      "+--------+-------+------+-----------+\n",
      "|Survived|P_class|Gender|   Embarked|\n",
      "+--------+-------+------+-----------+\n",
      "|      N1|    3r1|  mal1|Southampto1|\n",
      "|      N1|    1s1|  mal1|  Cherbour1|\n",
      "|      N1|    3r1|  mal1|Southampto1|\n",
      "|      N1|    3r1|  mal1| Queenstow1|\n",
      "|      N1|    3r1|femal1|Southampto1|\n",
      "|      N1|    3r1|  mal1|Southampto1|\n",
      "|      N1|    2n1|  mal1|Southampto1|\n",
      "|      N1|    1s1|  mal1|Southampto1|\n",
      "|      N1|    3r1|femal1|Southampto1|\n",
      "|      N1|    3r1|  mal1|Southampto1|\n",
      "+--------+-------+------+-----------+\n",
      "only showing top 10 rows\n",
      "\n"
     ]
    }
   ],
   "source": [
    "sorted_df = new_df.orderBy(new_df.columns[0])\n",
    "sorted_df.show(10)"
   ]
  },
  {
   "cell_type": "code",
   "execution_count": 20,
   "id": "f42e8b71-215b-44ce-82e6-aa37abddd741",
   "metadata": {},
   "outputs": [],
   "source": [
    "# saved in parquet file\n",
    "sorted_df.write.parquet(\"./results\")"
   ]
  },
  {
   "cell_type": "code",
   "execution_count": null,
   "id": "e990cc8e-9337-4fa5-9f71-0477d5e3d4f5",
   "metadata": {},
   "outputs": [],
   "source": []
  },
  {
   "cell_type": "code",
   "execution_count": null,
   "id": "d95b939d-a4f0-4764-ad9f-38b00a1fe7a3",
   "metadata": {},
   "outputs": [],
   "source": []
  },
  {
   "cell_type": "code",
   "execution_count": null,
   "id": "fec14a6a-8588-4d07-83bd-7e523740ee03",
   "metadata": {},
   "outputs": [],
   "source": []
  },
  {
   "cell_type": "code",
   "execution_count": null,
   "id": "a2b27e42-a61e-4f29-aee8-cc053ce67f1c",
   "metadata": {},
   "outputs": [],
   "source": []
  },
  {
   "cell_type": "code",
   "execution_count": null,
   "id": "a6654ab6-8492-46f5-bff0-cd1fd3378602",
   "metadata": {},
   "outputs": [],
   "source": []
  },
  {
   "cell_type": "code",
   "execution_count": null,
   "id": "dfdfff97-5923-452c-9ab7-304b3e2c1c6e",
   "metadata": {},
   "outputs": [],
   "source": []
  },
  {
   "cell_type": "code",
   "execution_count": null,
   "id": "af600d1c-a8ec-40be-a089-668a3978cb38",
   "metadata": {},
   "outputs": [],
   "source": []
  }
 ],
 "metadata": {
  "kernelspec": {
   "display_name": "Python 3 (ipykernel)",
   "language": "python",
   "name": "python3"
  },
  "language_info": {
   "codemirror_mode": {
    "name": "ipython",
    "version": 3
   },
   "file_extension": ".py",
   "mimetype": "text/x-python",
   "name": "python",
   "nbconvert_exporter": "python",
   "pygments_lexer": "ipython3",
   "version": "3.10.8"
  }
 },
 "nbformat": 4,
 "nbformat_minor": 5
}
